{
 "cells": [
  {
   "cell_type": "markdown",
   "metadata": {},
   "source": [
    "4. Median of Two Sorted Arrays\n",
    "\n",
    "Given two sorted arrays nums1 and nums2 of size m and n respectively, return the median of the two sorted arrays.\n",
    "\n",
    "The overall run time complexity should be O(log (m+n))."
   ]
  },
  {
   "cell_type": "code",
   "execution_count": 5,
   "metadata": {},
   "outputs": [],
   "source": [
    "# Binary Search (Divide & Conquer)\n",
    "\n",
    "class Solution(object):\n",
    "    def findMedianSortedArrays(self, nums1, nums2):\n",
    "        # Ensure nums1 is the smaller array\n",
    "        if len(nums1) > len(nums2):\n",
    "            nums1, nums2 = nums2, nums1\n",
    "\n",
    "        m, n = len(nums1), len(nums2)\n",
    "        total_length = m + n\n",
    "\n",
    "        # Binary search on the smaller array\n",
    "        left, right = 0, m\n",
    "\n",
    "        while left <= right:\n",
    "            # Partition indices for both arrays\n",
    "            partition1 = (left + right) // 2\n",
    "            partition2 = (total_length + 1) // 2 - partition1\n",
    "\n",
    "            # Edge values for comparisons (handle out-of-bound cases)\n",
    "            maxLeft1 = float('-inf') if partition1 == 0 else nums1[partition1 - 1]\n",
    "            minRight1 = float('inf') if partition1 == m else nums1[partition1]\n",
    "\n",
    "            maxLeft2 = float('-inf') if partition2 == 0 else nums2[partition2 - 1]\n",
    "            minRight2 = float('inf') if partition2 == n else nums2[partition2]\n",
    "\n",
    "            # Check if correct partition\n",
    "            if maxLeft1 <= minRight2 and maxLeft2 <= minRight1:\n",
    "                # Even total length\n",
    "                if total_length % 2 == 0:\n",
    "                    return (max(maxLeft1, maxLeft2) + min(minRight1, minRight2)) / 2.0\n",
    "                else:\n",
    "                    return max(maxLeft1, maxLeft2)\n",
    "            elif maxLeft1 > minRight2:\n",
    "                # Move left\n",
    "                right = partition1 - 1\n",
    "            else:\n",
    "                # Move right\n",
    "                left = partition1 + 1\n"
   ]
  },
  {
   "cell_type": "code",
   "execution_count": 6,
   "metadata": {},
   "outputs": [
    {
     "name": "stderr",
     "output_type": "stream",
     "text": [
      "test_different_lengths (__main__.TestMedianOfTwoSortedArrays.test_different_lengths) ... ok\n",
      "test_even_length_arrays (__main__.TestMedianOfTwoSortedArrays.test_even_length_arrays) ... ok\n",
      "test_odd_length_arrays (__main__.TestMedianOfTwoSortedArrays.test_odd_length_arrays) ... ok\n",
      "test_one_empty_array (__main__.TestMedianOfTwoSortedArrays.test_one_empty_array) ... ok\n",
      "test_same_arrays (__main__.TestMedianOfTwoSortedArrays.test_same_arrays) ... ok\n",
      "\n",
      "----------------------------------------------------------------------\n",
      "Ran 5 tests in 0.004s\n",
      "\n",
      "OK\n"
     ]
    },
    {
     "data": {
      "text/plain": [
       "<unittest.main.TestProgram at 0x1045896a0>"
      ]
     },
     "execution_count": 6,
     "metadata": {},
     "output_type": "execute_result"
    }
   ],
   "source": [
    "import unittest\n",
    "\n",
    "class TestMedianOfTwoSortedArrays(unittest.TestCase):\n",
    "    def setUp(self):\n",
    "        self.solution = Solution()\n",
    "\n",
    "    def test_even_length_arrays(self):\n",
    "        nums1 = [1, 3]\n",
    "        nums2 = [2, 4]\n",
    "        expected = 2.5\n",
    "        self.assertAlmostEqual(self.solution.findMedianSortedArrays(nums1, nums2), expected)\n",
    "\n",
    "    def test_odd_length_arrays(self):\n",
    "        nums1 = [1, 2]\n",
    "        nums2 = [3]\n",
    "        expected = 2\n",
    "        self.assertEqual(self.solution.findMedianSortedArrays(nums1, nums2), expected)\n",
    "\n",
    "    def test_one_empty_array(self):\n",
    "        nums1 = []\n",
    "        nums2 = [1]\n",
    "        expected = 1\n",
    "        self.assertEqual(self.solution.findMedianSortedArrays(nums1, nums2), expected)\n",
    "\n",
    "    def test_same_arrays(self):\n",
    "        nums1 = [1, 2, 3]\n",
    "        nums2 = [1, 2, 3]\n",
    "        expected = 2\n",
    "        self.assertEqual(self.solution.findMedianSortedArrays(nums1, nums2), expected)\n",
    "\n",
    "    def test_different_lengths(self):\n",
    "        nums1 = [1, 3, 8, 9, 15]\n",
    "        nums2 = [7, 11, 18, 19, 21, 25]\n",
    "        expected = 11\n",
    "        self.assertEqual(self.solution.findMedianSortedArrays(nums1, nums2), expected)\n",
    "\n",
    "# This line is important for Jupyter notebooks to avoid errors and to display test results nicely\n",
    "unittest.main(argv=[''], verbosity=2, exit=False)\n"
   ]
  },
  {
   "cell_type": "code",
   "execution_count": 7,
   "metadata": {},
   "outputs": [],
   "source": [
    "# brute force version\n",
    "# time complexity is O((m + n) log(m + n))\n",
    "\n",
    "class Solution(object):\n",
    "    def findMedianSortedArrays(self, nums1, nums2):\n",
    "        total = nums1 + nums2\n",
    "        total.sort()\n",
    "\n",
    "        n = len(total)\n",
    "        if n % 2 == 0: \n",
    "            midIdx = n // 2\n",
    "            medianV = (total[midIdx -1 ] + total[midIdx]) / 2.0\n",
    "        else: \n",
    "            midIdx = n // 2\n",
    "            medianV = total(midIdx)\n",
    "        return medianV\n",
    "\n"
   ]
  },
  {
   "cell_type": "code",
   "execution_count": 8,
   "metadata": {},
   "outputs": [
    {
     "name": "stdout",
     "output_type": "stream",
     "text": [
      "2\n",
      "2.5\n",
      "0.0\n",
      "1\n",
      "2\n",
      "5\n"
     ]
    }
   ],
   "source": [
    "\n",
    "class Solution(object):\n",
    "    def findMedianSortedArrays(self, nums1, nums2):\n",
    "        total = nums1 + nums2\n",
    "        total.sort()\n",
    "        \n",
    "        n = len(total)\n",
    "        if n % 2 == 0: \n",
    "            midIdx = n // 2\n",
    "            medianV = (total[midIdx - 1] + total[midIdx]) / 2.0\n",
    "        else: \n",
    "            midIdx = n // 2\n",
    "            medianV = total[midIdx]\n",
    "            \n",
    "        return medianV\n",
    "\n",
    "\n",
    "sol = Solution()\n",
    "\n",
    "# Test cases\n",
    "print(sol.findMedianSortedArrays([1, 3], [2]))             # Expected output: 2.0\n",
    "print(sol.findMedianSortedArrays([1, 2], [3, 4]))          # Expected output: 2.5\n",
    "print(sol.findMedianSortedArrays([0, 0], [0, 0]))          # Expected output: 0.0\n",
    "print(sol.findMedianSortedArrays([], [1]))                  # Expected output: 1\n",
    "print(sol.findMedianSortedArrays([2], []))                  # Expected output: 2\n",
    "print(sol.findMedianSortedArrays([1, 5, 9], [2, 3, 7, 10])) # Expected output: 5.0\n"
   ]
  }
 ],
 "metadata": {
  "kernelspec": {
   "display_name": "Python (notebook)",
   "language": "python",
   "name": "notebook"
  },
  "language_info": {
   "codemirror_mode": {
    "name": "ipython",
    "version": 3
   },
   "file_extension": ".py",
   "mimetype": "text/x-python",
   "name": "python",
   "nbconvert_exporter": "python",
   "pygments_lexer": "ipython3",
   "version": "3.12.8"
  }
 },
 "nbformat": 4,
 "nbformat_minor": 2
}
