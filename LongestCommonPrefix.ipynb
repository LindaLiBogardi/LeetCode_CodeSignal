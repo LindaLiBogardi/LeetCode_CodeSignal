{
 "cells": [
  {
   "cell_type": "markdown",
   "metadata": {},
   "source": [
    "14. Longest Common Prefix\n",
    "\n",
    "Write a function to find the longest common prefix string amongst an array of strings.\n",
    "\n",
    "If there is no common prefix, return an empty string \"\".\n",
    "\n",
    "Example 1:\n",
    "\n",
    "Input: strs = [\"flower\",\"flow\",\"flight\"]\n",
    "Output: \"fl\"\n",
    "\n",
    "Constraints:\n",
    "\n",
    "1 <= strs.length <= 200\n",
    "0 <= strs[i].length <= 200\n",
    "strs[i] consists of only lowercase English letters if it is non-empty."
   ]
  },
  {
   "cell_type": "code",
   "execution_count": 3,
   "metadata": {},
   "outputs": [],
   "source": [
    "# Use zip() + set()\n",
    "\n",
    "class Solution:\n",
    "    def longestCommonPrefix(self, strs):\n",
    "        result = \"\"\n",
    "        if not strs:\n",
    "            return result\n",
    "\n",
    "        for group in zip(*strs):\n",
    "            # group is a tuple like ('f', 'f', 'f') for the first letters\n",
    "            # Use set to detect if all characters match\n",
    "            \n",
    "            if len(set(group)) == 1:\n",
    "                result += group[0]\n",
    "            else:\n",
    "                break  # Stop at first mismatch\n",
    "\n",
    "        return result\n"
   ]
  },
  {
   "cell_type": "code",
   "execution_count": 1,
   "metadata": {},
   "outputs": [],
   "source": [
    "# vervital scanning approach\n",
    "\n",
    "class Solution(object):\n",
    "    def longestCommonPrefix(self, strs):\n",
    "        result = \"\"\n",
    "        if not strs:\n",
    "            return result\n",
    "\n",
    "        for i in range(len(strs[0])):  # Loop through characters in the first string\n",
    "            char = strs[0][i]\n",
    "            for word in strs:\n",
    "                # Check if index is in bounds and characters match\n",
    "                if i >= len(word) or word[i] != char:\n",
    "                    return result\n",
    "            result += char\n",
    "        return result\n"
   ]
  },
  {
   "cell_type": "code",
   "execution_count": 4,
   "metadata": {},
   "outputs": [
    {
     "name": "stdout",
     "output_type": "stream",
     "text": [
      "fl\n",
      "\n"
     ]
    }
   ],
   "source": [
    "s = Solution()\n",
    "print(s.longestCommonPrefix([\"flower\", \"flow\", \"flight\"]))  # Output: \"fl\"\n",
    "print(s.longestCommonPrefix([\"dog\", \"racecar\", \"car\"]))     # Output: \"\"\n"
   ]
  }
 ],
 "metadata": {
  "kernelspec": {
   "display_name": "Python (notebook)",
   "language": "python",
   "name": "notebook"
  },
  "language_info": {
   "codemirror_mode": {
    "name": "ipython",
    "version": 3
   },
   "file_extension": ".py",
   "mimetype": "text/x-python",
   "name": "python",
   "nbconvert_exporter": "python",
   "pygments_lexer": "ipython3",
   "version": "3.12.8"
  }
 },
 "nbformat": 4,
 "nbformat_minor": 2
}
