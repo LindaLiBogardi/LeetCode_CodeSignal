{
 "cells": [
  {
   "cell_type": "markdown",
   "metadata": {},
   "source": []
  },
  {
   "cell_type": "markdown",
   "metadata": {},
   "source": [
    "3. Longest Substring Without Repeating Characters\n",
    "Given a string s, find the length of the longest substring without duplicate characters."
   ]
  },
  {
   "cell_type": "code",
   "execution_count": null,
   "metadata": {},
   "outputs": [],
   "source": [
    "# Sliding Window with Hash Map \n",
    "# O(n) for time complexity and O(min(n, m)) for space complexity, where m is the size of the character set (e.g. 26 for lowercase letters, 128 for ASCII).\n",
    "\n",
    "class Solution(object):\n",
    "    def lengthOfLongestSubstring(self, s):\n",
    "        max_length = 0  # keeps track of the maximum length found\n",
    "        start = 0       # starting index of the current window\n",
    "        lookup = {}     # dictionary to store the last seen index of each character\n",
    "\n",
    "        for i, char in enumerate(s):\n",
    "            if char in lookup and lookup[char] >= start:\n",
    "                # character seen again within the current window\n",
    "                start = lookup[char] + 1\n",
    "\n",
    "            lookup[char] = i  # update the last seen index of char\n",
    "            max_length = max(max_length, i - start + 1)\n",
    "\n",
    "        return max_length"
   ]
  },
  {
   "cell_type": "code",
   "execution_count": 2,
   "metadata": {},
   "outputs": [],
   "source": [
    "# sliding window technique\n",
    "# O(n) in time complexity and O(min(n, m)) in space complexity — where m is charset size (e.g. 26 for lowercase letters)\n",
    "\n",
    "class Solution(object):\n",
    "    def lengthOfLongestSubstring(self, s):\n",
    "\n",
    "        longestS = set()  #initiate an empty string to store the longest string \n",
    "        left = 0\n",
    "        max_len = 0\n",
    "\n",
    "        for right in range(len(s)):\n",
    "            while s[right] in longestS: # While character at right is already in set\n",
    "                longestS.remove(s[left]) # Remove s[left] from set\n",
    "                left += 1  \n",
    "            longestS.add(s[right])  # Add s[right] to set\n",
    "            max_len = max(max_len, right - left + 1)  # Update max_len\n",
    "           \n",
    "        return max_len\n"
   ]
  },
  {
   "cell_type": "code",
   "execution_count": 5,
   "metadata": {},
   "outputs": [],
   "source": [
    "# slide from right to left \n",
    "\n",
    "class Solution(object):\n",
    "    def lengthOfLongestSubstring(self, s):\n",
    "        longestS = set()\n",
    "        right = len(s)\n",
    "        max_len = 0\n",
    "\n",
    "        for left in reversed(range(len(s))):\n",
    "            while s[left] in longestS:\n",
    "                right -= 1\n",
    "                longestS.remove(s[right])\n",
    "            longestS.add(s[left])\n",
    "            max_len = max(max_len, right - left)\n",
    "\n",
    "        return max_len\n"
   ]
  },
  {
   "cell_type": "code",
   "execution_count": 6,
   "metadata": {},
   "outputs": [
    {
     "name": "stdout",
     "output_type": "stream",
     "text": [
      "3\n",
      "1\n",
      "3\n",
      "0\n",
      "3\n"
     ]
    }
   ],
   "source": [
    "sol = Solution()\n",
    "print(sol.lengthOfLongestSubstring(\"abcabcbb\"))  # Output: 3\n",
    "print(sol.lengthOfLongestSubstring(\"bbbbb\"))     # Output: 1\n",
    "print(sol.lengthOfLongestSubstring(\"pwwkew\"))    # Output: 3\n",
    "print(sol.lengthOfLongestSubstring(\"\"))          # Output: 0\n",
    "print(sol.lengthOfLongestSubstring(\"dvdf\"))      # Output: 3\n"
   ]
  },
  {
   "cell_type": "code",
   "execution_count": 4,
   "metadata": {},
   "outputs": [
    {
     "name": "stderr",
     "output_type": "stream",
     "text": [
      "test_additional (__main__.TestLongestSubstring.test_additional) ... ok\n",
      "test_examples (__main__.TestLongestSubstring.test_examples) ... ok\n",
      "\n",
      "----------------------------------------------------------------------\n",
      "Ran 2 tests in 0.002s\n",
      "\n",
      "OK\n"
     ]
    },
    {
     "data": {
      "text/plain": [
       "<unittest.main.TestProgram at 0x105f91fd0>"
      ]
     },
     "execution_count": 4,
     "metadata": {},
     "output_type": "execute_result"
    }
   ],
   "source": [
    "import unittest\n",
    "\n",
    "class Solution(object):\n",
    "    def lengthOfLongestSubstring(self, s):\n",
    "        longestS = set()\n",
    "        left = 0\n",
    "        max_len = 0\n",
    "\n",
    "        for right in range(len(s)):\n",
    "            while s[right] in longestS:\n",
    "                longestS.remove(s[left])\n",
    "                left += 1\n",
    "            longestS.add(s[right])\n",
    "            max_len = max(max_len, right - left + 1)\n",
    "\n",
    "        return max_len\n",
    "\n",
    "class TestLongestSubstring(unittest.TestCase):\n",
    "    def setUp(self):\n",
    "        self.sol = Solution()\n",
    "\n",
    "    def test_examples(self):\n",
    "        self.assertEqual(self.sol.lengthOfLongestSubstring(\"abcabcbb\"), 3)\n",
    "        self.assertEqual(self.sol.lengthOfLongestSubstring(\"bbbbb\"), 1)\n",
    "        self.assertEqual(self.sol.lengthOfLongestSubstring(\"pwwkew\"), 3)\n",
    "        self.assertEqual(self.sol.lengthOfLongestSubstring(\"\"), 0)\n",
    "        self.assertEqual(self.sol.lengthOfLongestSubstring(\"dvdf\"), 3)\n",
    "\n",
    "    def test_additional(self):\n",
    "        self.assertEqual(self.sol.lengthOfLongestSubstring(\"abcdefg\"), 7)\n",
    "        self.assertEqual(self.sol.lengthOfLongestSubstring(\"abba\"), 2)\n",
    "        self.assertEqual(self.sol.lengthOfLongestSubstring(\"tmmzuxt\"), 5)\n",
    "        self.assertEqual(self.sol.lengthOfLongestSubstring(\"aab\"), 2)\n",
    "\n",
    "unittest.main(argv=[''], verbosity=2, exit=False)\n"
   ]
  }
 ],
 "metadata": {
  "kernelspec": {
   "display_name": "Python (notebook)",
   "language": "python",
   "name": "notebook"
  },
  "language_info": {
   "codemirror_mode": {
    "name": "ipython",
    "version": 3
   },
   "file_extension": ".py",
   "mimetype": "text/x-python",
   "name": "python",
   "nbconvert_exporter": "python",
   "pygments_lexer": "ipython3",
   "version": "3.12.8"
  }
 },
 "nbformat": 4,
 "nbformat_minor": 2
}
