{
 "cells": [
  {
   "cell_type": "markdown",
   "metadata": {},
   "source": [
    "12. Integer to Roman\n",
    "\n",
    "Seven different symbols represent Roman numerals with the following values:\n",
    "\n",
    "Symbol\tValue\n",
    "I\t1\n",
    "V\t5\n",
    "X\t10\n",
    "L\t50\n",
    "C\t100\n",
    "D\t500\n",
    "M\t1000\n",
    "\n",
    "Roman numerals are formed by appending the conversions of decimal place values from highest to lowest. Converting a decimal place value into a Roman numeral has the following rules:\n",
    "\n",
    "If the value does not start with 4 or 9, select the symbol of the maximal value that can be subtracted from the input, append that symbol to the result, subtract its value, and convert the remainder to a Roman numeral.\n",
    "If the value starts with 4 or 9 use the subtractive form representing one symbol subtracted from the following symbol, for example, 4 is 1 (I) less than 5 (V): IV and 9 is 1 (I) less than 10 (X): IX. Only the following subtractive forms are used: 4 (IV), 9 (IX), 40 (XL), 90 (XC), 400 (CD) and 900 (CM).\n",
    "Only powers of 10 (I, X, C, M) can be appended consecutively at most 3 times to represent multiples of 10. You cannot append 5 (V), 50 (L), or 500 (D) multiple times. If you need to append a symbol 4 times use the subtractive form.\n",
    "Given an integer, convert it to a Roman numeral."
   ]
  },
  {
   "cell_type": "code",
   "execution_count": 1,
   "metadata": {},
   "outputs": [],
   "source": [
    "class Solution(object):\n",
    "    def intToRoman(self, num):\n",
    "        result = \"\"\n",
    "        int_to_roman = [\n",
    "            (1000, 'M'),\n",
    "            (900, 'CM'),\n",
    "            (500, 'D'),\n",
    "            (400, 'CD'),\n",
    "            (100, 'C'),\n",
    "            (90, 'XC'),\n",
    "            (50, 'L'),\n",
    "            (40, 'XL'),\n",
    "            (10, 'X'),\n",
    "            (9, 'IX'),\n",
    "            (5, 'V'),\n",
    "            (4, 'IV'),\n",
    "            (1, 'I')\n",
    "        ]\n",
    "        \n",
    "        if not 1 <= num <= 3999:\n",
    "            return \"\"\n",
    "\n",
    "        for value, symbol in int_to_roman:\n",
    "            while num >= value:\n",
    "                result += symbol\n",
    "                num -= value\n",
    "\n",
    "        return result\n"
   ]
  },
  {
   "cell_type": "code",
   "execution_count": 2,
   "metadata": {},
   "outputs": [
    {
     "name": "stderr",
     "output_type": "stream",
     "text": [
      "test_basic (__main__.TestIntToRoman.test_basic) ... ok\n",
      "test_out_of_range (__main__.TestIntToRoman.test_out_of_range) ... ok\n",
      "\n",
      "----------------------------------------------------------------------\n",
      "Ran 2 tests in 0.001s\n",
      "\n",
      "OK\n"
     ]
    },
    {
     "data": {
      "text/plain": [
       "<unittest.main.TestProgram at 0x1039a0830>"
      ]
     },
     "execution_count": 2,
     "metadata": {},
     "output_type": "execute_result"
    }
   ],
   "source": [
    "import unittest\n",
    "\n",
    "class TestIntToRoman(unittest.TestCase):\n",
    "    def setUp(self):\n",
    "        self.s = Solution()\n",
    "\n",
    "    def test_basic(self):\n",
    "        self.assertEqual(self.s.intToRoman(1), \"I\")\n",
    "        self.assertEqual(self.s.intToRoman(4), \"IV\")\n",
    "        self.assertEqual(self.s.intToRoman(9), \"IX\")\n",
    "        self.assertEqual(self.s.intToRoman(58), \"LVIII\")\n",
    "        self.assertEqual(self.s.intToRoman(1994), \"MCMXCIV\")\n",
    "        self.assertEqual(self.s.intToRoman(3999), \"MMMCMXCIX\")\n",
    "\n",
    "    def test_out_of_range(self):\n",
    "        self.assertEqual(self.s.intToRoman(0), \"\")\n",
    "        self.assertEqual(self.s.intToRoman(4000), \"\")\n",
    "\n",
    "# Run the tests in a Jupyter cell\n",
    "unittest.main(argv=[''], verbosity=2, exit=False)\n"
   ]
  }
 ],
 "metadata": {
  "kernelspec": {
   "display_name": "Python (notebook)",
   "language": "python",
   "name": "notebook"
  },
  "language_info": {
   "codemirror_mode": {
    "name": "ipython",
    "version": 3
   },
   "file_extension": ".py",
   "mimetype": "text/x-python",
   "name": "python",
   "nbconvert_exporter": "python",
   "pygments_lexer": "ipython3",
   "version": "3.12.8"
  }
 },
 "nbformat": 4,
 "nbformat_minor": 2
}
