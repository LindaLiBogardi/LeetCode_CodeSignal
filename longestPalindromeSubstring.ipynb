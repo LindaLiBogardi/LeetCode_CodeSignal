{
 "cells": [
  {
   "cell_type": "code",
   "execution_count": null,
   "metadata": {},
   "outputs": [],
   "source": [
    "5. Longest Palindromic Substring\n",
    "\n",
    "Given a string s, return the longest palindromic substring in s."
   ]
  },
  {
   "cell_type": "code",
   "execution_count": null,
   "metadata": {},
   "outputs": [],
   "source": [
    "# Manacher’s Algorithm:"
   ]
  },
  {
   "cell_type": "code",
   "execution_count": 2,
   "metadata": {},
   "outputs": [],
   "source": [
    "# Expand Around Center\n",
    "# Time complexity is O(n^2) and space complexity is O(1)\n",
    "\n",
    "class Solution(object):\n",
    "    def longestPalindrome(self, s):\n",
    "        if not s:\n",
    "            return \"\"\n",
    "        \n",
    "        start, end = 0, 0\n",
    "        def expandAroundCenter(left, right):   # a function to loop the longest palindrome starting from the center char\n",
    "            while left >= 0 and right < len(s) and s[left] == s[right]:\n",
    "                left -= 1 \n",
    "                right += 1\n",
    "            return left + 1, right -1  # return the value of the longest palindrome\n",
    "        \n",
    "        for i in range(len(s)):\n",
    "            left1, right1 = expandAroundCenter(i,i)   # odd length, by calling the expandAroundCenter function, retune the longest palindrome substring \n",
    "            left2, right2 = expandAroundCenter(i, i + 1) # even length\n",
    "\n",
    "            # updata the longest palindrome substring bondaries for odd/even length\n",
    "            if right1 - left1 > end -start:\n",
    "                start, end = left1, right1\n",
    "            if right2 - left2 > end - start:\n",
    "                start, end = left2, right2\n",
    "        return s[start:end + 1]\n",
    "\n"
   ]
  },
  {
   "cell_type": "code",
   "execution_count": 5,
   "metadata": {},
   "outputs": [],
   "source": [
    "class Solution(object):\n",
    "    def banana(self, s):\n",
    "        def expand_around_center(left, right):\n",
    "            while left >= 0 and right < len(s) and s[left] == s[right]:\n",
    "                left -= 1\n",
    "                right += 1\n",
    "            return s[left + 1:right]\n",
    "\n",
    "        longest = \"\"\n",
    "        for i in range(len(s)):\n",
    "            # Odd-length \n",
    "            odd = expand_around_center(i, i)\n",
    "            # Even-length \n",
    "            even = expand_around_center(i, i + 1)\n",
    "\n",
    "            if len(odd) > len(longest):\n",
    "                longest = odd\n",
    "            if len(even) > len(longest):\n",
    "                longest = even\n",
    "\n",
    "        return longest"
   ]
  },
  {
   "cell_type": "code",
   "execution_count": 7,
   "metadata": {},
   "outputs": [
    {
     "name": "stderr",
     "output_type": "stream",
     "text": [
      "test_all_same_characters (__main__.TestLongestPalindrome.test_all_same_characters) ... ok\n",
      "test_basic_cases (__main__.TestLongestPalindrome.test_basic_cases) ... ok\n",
      "test_palindrome_middle (__main__.TestLongestPalindrome.test_palindrome_middle) ... ok\n",
      "test_palindrome_whole_string (__main__.TestLongestPalindrome.test_palindrome_whole_string) ... ok\n",
      "\n",
      "----------------------------------------------------------------------\n",
      "Ran 4 tests in 0.004s\n",
      "\n",
      "OK\n"
     ]
    },
    {
     "data": {
      "text/plain": [
       "<unittest.runner.TextTestResult run=4 errors=0 failures=0>"
      ]
     },
     "execution_count": 7,
     "metadata": {},
     "output_type": "execute_result"
    }
   ],
   "source": [
    "import unittest\n",
    "\n",
    "# Your solution class\n",
    "class Solution(object):\n",
    "    def longestPalindrome(self, s):\n",
    "        if not s:\n",
    "            return \"\"\n",
    "        \n",
    "        start, end = 0, 0\n",
    "        def expandAroundCenter(left, right):\n",
    "            while left >= 0 and right < len(s) and s[left] == s[right]:\n",
    "                left -= 1 \n",
    "                right += 1\n",
    "            return left + 1, right - 1 \n",
    "        \n",
    "        for i in range(len(s)):\n",
    "            left1, right1 = expandAroundCenter(i, i)\n",
    "            left2, right2 = expandAroundCenter(i, i + 1)\n",
    "\n",
    "            if right1 - left1 > end - start:\n",
    "                start, end = left1, right1\n",
    "            if right2 - left2 > end - start:\n",
    "                start, end = left2, right2\n",
    "        return s[start:end + 1]\n",
    "\n",
    "# Test class\n",
    "class TestLongestPalindrome(unittest.TestCase):\n",
    "    def setUp(self):\n",
    "        self.solution = Solution()\n",
    "\n",
    "    def test_basic_cases(self):\n",
    "        self.assertIn(self.solution.longestPalindrome(\"babad\"), [\"bab\", \"aba\"])\n",
    "        self.assertEqual(self.solution.longestPalindrome(\"cbbd\"), \"bb\")\n",
    "        self.assertEqual(self.solution.longestPalindrome(\"a\"), \"a\")\n",
    "        self.assertEqual(self.solution.longestPalindrome(\"ac\"), \"a\")  # or \"c\"\n",
    "        self.assertEqual(self.solution.longestPalindrome(\"\"), \"\")\n",
    "\n",
    "    def test_palindrome_whole_string(self):\n",
    "        self.assertEqual(self.solution.longestPalindrome(\"racecar\"), \"racecar\")\n",
    "        self.assertEqual(self.solution.longestPalindrome(\"madamimadam\"), \"madamimadam\")\n",
    "\n",
    "    def test_palindrome_middle(self):\n",
    "        self.assertEqual(self.solution.longestPalindrome(\"abcbabcbabcba\"), \"abcbabcbabcba\")\n",
    "        self.assertEqual(self.solution.longestPalindrome(\"forgeeksskeegfor\"), \"geeksskeeg\")\n",
    "\n",
    "    def test_all_same_characters(self):\n",
    "        self.assertEqual(self.solution.longestPalindrome(\"aaaa\"), \"aaaa\")\n",
    "        self.assertEqual(self.solution.longestPalindrome(\"bbbbbb\"), \"bbbbbb\")\n",
    "\n",
    "# Run the tests in the notebook\n",
    "suite = unittest.TestLoader().loadTestsFromTestCase(TestLongestPalindrome)\n",
    "unittest.TextTestRunner(verbosity=2).run(suite)\n"
   ]
  }
 ],
 "metadata": {
  "kernelspec": {
   "display_name": "Python (notebook)",
   "language": "python",
   "name": "notebook"
  },
  "language_info": {
   "codemirror_mode": {
    "name": "ipython",
    "version": 3
   },
   "file_extension": ".py",
   "mimetype": "text/x-python",
   "name": "python",
   "nbconvert_exporter": "python",
   "pygments_lexer": "ipython3",
   "version": "3.12.8"
  }
 },
 "nbformat": 4,
 "nbformat_minor": 2
}
