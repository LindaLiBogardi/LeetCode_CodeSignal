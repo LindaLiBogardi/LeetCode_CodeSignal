{
 "cells": [
  {
   "cell_type": "markdown",
   "metadata": {},
   "source": [
    "1. Two Sum\n",
    "Given an array of integers nums and an integer target, return indices of the two numbers such that they add up to target.\n",
    "\n",
    "You may assume that each input would have exactly one solution, and you may not use the same element twice.\n",
    "\n",
    "You can return the answer in any order."
   ]
  },
  {
   "cell_type": "code",
   "execution_count": 1,
   "metadata": {},
   "outputs": [],
   "source": [
    "#hashmap\n",
    "# O(n) in both time complexity and space complexity\n",
    "class Solution(object):\n",
    "    def twoSum(self, nums, target):\n",
    "        lookup = {}\n",
    "        for i, num in enumerate(nums):\n",
    "            complement =  target - nums[i]\n",
    "            if complement in lookup:\n",
    "                return [lookup[complement],i]\n",
    "            lookup[num] = i\n",
    "        return []"
   ]
  },
  {
   "cell_type": "code",
   "execution_count": 2,
   "metadata": {},
   "outputs": [],
   "source": [
    "# \tO(n²) in time complexity and O(n) in space complexity\n",
    "class Solution(object):\n",
    "    def twoSum(self, nums, target):\n",
    "\n",
    "        for i in range(len(nums)):\n",
    "            complement = target - nums[i]\n",
    "            \n",
    "            if complement in nums[i+1:]:\n",
    "                idx_2 = nums[i+1:].index(complement) + (i+1)\n",
    "                return [i, idx_2]\n",
    "        return []\n",
    "    "
   ]
  },
  {
   "cell_type": "code",
   "execution_count": 16,
   "metadata": {},
   "outputs": [
    {
     "name": "stdout",
     "output_type": "stream",
     "text": [
      "[0, 1]\n"
     ]
    }
   ],
   "source": [
    "nums = [2, 7, 4, 3]\n",
    "target = 9\n",
    "sol = Solution()\n",
    "print(sol.twoSum(nums, target))  # Output: [0, 1]\n"
   ]
  },
  {
   "cell_type": "code",
   "execution_count": null,
   "metadata": {},
   "outputs": [],
   "source": [
    "# clearly nested loop. Brute- force\n",
    "# Again O(n²) in time complexity and O(n) in space complexity\n",
    "class Solution(object):\n",
    "    def twoSum(self, nums, target):\n",
    "       \n",
    "        for i in range(len(nums)):\n",
    "            for j in range(i + 1, len(nums)):\n",
    "                if nums[i] + nums[j] == target:         \n",
    "                    return [i, j]\n",
    "        return []\n"
   ]
  },
  {
   "cell_type": "code",
   "execution_count": 2,
   "metadata": {},
   "outputs": [
    {
     "name": "stdout",
     "output_type": "stream",
     "text": [
      "Test Case 1: nums = [1, 3, 5, 7, 2, 4, 6, 8], target = 10\n",
      "  ➤ Indices: [1, 3]\n",
      "  ➤ Values: 3 + 7 = 10\n",
      "\n",
      "Test Case 2: nums = [2, 7, 11, 15], target = 9\n",
      "  ➤ Indices: [0, 1]\n",
      "  ➤ Values: 2 + 7 = 9\n",
      "\n",
      "Test Case 3: nums = [3, 2, 4], target = 6\n",
      "  ➤ Indices: [1, 2]\n",
      "  ➤ Values: 2 + 4 = 6\n",
      "\n",
      "Test Case 4: nums = [0, 4, 3, 0], target = 0\n",
      "  ➤ Indices: [0, 3]\n",
      "  ➤ Values: 0 + 0 = 0\n",
      "\n",
      "Test Case 5: nums = [1, 1], target = 2\n",
      "  ➤ Indices: [0, 1]\n",
      "  ➤ Values: 1 + 1 = 2\n",
      "\n",
      "Test Case 6: nums = [5, 75, 25], target = 100\n",
      "  ➤ Indices: [1, 2]\n",
      "  ➤ Values: 75 + 25 = 100\n",
      "\n",
      "Test Case 7: nums = [1, 2, 3, 4, 5], target = 9\n",
      "  ➤ Indices: [3, 4]\n",
      "  ➤ Values: 4 + 5 = 9\n",
      "\n",
      "Test Case 8: nums = [1, 2, 3, 4, 5], target = 100\n",
      "  ➤ No valid pair found.\n",
      "\n"
     ]
    }
   ],
   "source": [
    "# ChatGPT unit test code :)\n",
    "# Solution class definition (in case it's not already defined)\n",
    "class Solution(object):\n",
    "    def twoSum(self, nums, target):\n",
    "        seen = {}\n",
    "        for i, num in enumerate(nums):\n",
    "            complement = target - num\n",
    "            if complement in seen:\n",
    "                return [seen[complement], i]\n",
    "            seen[num] = i\n",
    "        return []\n",
    "\n",
    "# List of test cases: each is a tuple (nums, target)\n",
    "test_cases = [\n",
    "    ([1, 3, 5, 7, 2, 4, 6, 8], 10),\n",
    "    ([2, 7, 11, 15], 9),\n",
    "    ([3, 2, 4], 6),\n",
    "    ([0, 4, 3, 0], 0),\n",
    "    ([1, 1], 2),\n",
    "    ([5, 75, 25], 100),\n",
    "    ([1, 2, 3, 4, 5], 9),\n",
    "    ([1, 2, 3, 4, 5], 100),  # No match\n",
    "]\n",
    "\n",
    "# Create instance\n",
    "sol = Solution()\n",
    "\n",
    "# Run and print results\n",
    "for i, (nums, target) in enumerate(test_cases):\n",
    "    result = sol.twoSum(nums, target)\n",
    "    print(f\"Test Case {i+1}: nums = {nums}, target = {target}\")\n",
    "    if result:\n",
    "        print(f\"  ➤ Indices: {result}\")\n",
    "        print(f\"  ➤ Values: {nums[result[0]]} + {nums[result[1]]} = {target}\\n\")\n",
    "    else:\n",
    "        print(\"  ➤ No valid pair found.\\n\")\n"
   ]
  }
 ],
 "metadata": {
  "kernelspec": {
   "display_name": "Python (notebook)",
   "language": "python",
   "name": "notebook"
  },
  "language_info": {
   "codemirror_mode": {
    "name": "ipython",
    "version": 3
   },
   "file_extension": ".py",
   "mimetype": "text/x-python",
   "name": "python",
   "nbconvert_exporter": "python",
   "pygments_lexer": "ipython3",
   "version": "3.12.8"
  }
 },
 "nbformat": 4,
 "nbformat_minor": 2
}
