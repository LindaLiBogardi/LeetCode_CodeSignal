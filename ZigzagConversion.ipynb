{
 "cells": [
  {
   "cell_type": "markdown",
   "metadata": {},
   "source": [
    "6. Zigzag Conversion\n",
    "\n",
    "The string \"PAYPALISHIRING\" is written in a zigzag pattern on a given number of rows like this: (you may want to display this pattern in a fixed font for better legibility)\n",
    "\n",
    "Input: s = \"PAYPALISHIRING\", numRows = 3\n",
    "output: \n",
    "\n",
    "P   A   H   N\n",
    "A P L S I I G\n",
    "Y   I   R\n",
    "And then read line by line: \"PAHNAPLSIIGYIR\"\n",
    "\n",
    "Write the code that will take a string and make this conversion given a number of rows:\n",
    "\n",
    "string convert(string s, int numRows);\n",
    "\n",
    "Example 2:\n",
    "\n",
    "Input: s = \"PAYPALISHIRING\", numRows = 4\n",
    "Output: \"PINALSIGYAHRPI\"\n",
    "Explanation:\n",
    "P     I    N\n",
    "A   L S  I G\n",
    "Y A   H R\n",
    "P     I"
   ]
  },
  {
   "cell_type": "code",
   "execution_count": 1,
   "metadata": {},
   "outputs": [],
   "source": [
    "class Solution(object):\n",
    "    def convert(self, s, numRows):\n",
    "        if numRows == 1 or numRows >= len(s):\n",
    "            return s\n",
    "        \n",
    "        rows = [''] * numRows   \n",
    "        current_row = 0\n",
    "        going_down = False\n",
    "        \n",
    "        for char in s:\n",
    "            rows[current_row] += char\n",
    "            if current_row == 0 or current_row == numRows - 1:\n",
    "                going_down = not going_down\n",
    "            current_row += 1 if going_down else -1\n",
    "            \n",
    "        return ''.join(rows)"
   ]
  },
  {
   "cell_type": "code",
   "execution_count": 2,
   "metadata": {},
   "outputs": [
    {
     "name": "stderr",
     "output_type": "stream",
     "text": [
      "test_empty_string (__main__.TestZigzagConversion.test_empty_string) ... ok\n",
      "test_example (__main__.TestZigzagConversion.test_example) ... ok\n",
      "test_numRows_more_than_length (__main__.TestZigzagConversion.test_numRows_more_than_length) ... ok\n",
      "test_single_row (__main__.TestZigzagConversion.test_single_row) ... ok\n",
      "test_two_rows (__main__.TestZigzagConversion.test_two_rows) ... ok\n",
      "\n",
      "----------------------------------------------------------------------\n",
      "Ran 5 tests in 0.003s\n",
      "\n",
      "OK\n"
     ]
    },
    {
     "data": {
      "text/plain": [
       "<unittest.main.TestProgram at 0x103e7f170>"
      ]
     },
     "execution_count": 2,
     "metadata": {},
     "output_type": "execute_result"
    }
   ],
   "source": [
    "import unittest\n",
    "\n",
    "class Solution(object):\n",
    "    def convert(self, s, numRows):\n",
    "        if numRows == 1 or numRows >= len(s):\n",
    "            return s\n",
    "        \n",
    "        rows = [''] * numRows   \n",
    "        current_row = 0\n",
    "        going_down = False\n",
    "        \n",
    "        for char in s:\n",
    "            rows[current_row] += char\n",
    "            if current_row == 0 or current_row == numRows - 1:\n",
    "                going_down = not going_down\n",
    "            current_row += 1 if going_down else -1\n",
    "            \n",
    "        return ''.join(rows)\n",
    "\n",
    "\n",
    "class TestZigzagConversion(unittest.TestCase):\n",
    "    def setUp(self):\n",
    "        self.sol = Solution()\n",
    "\n",
    "    def test_example(self):\n",
    "        self.assertEqual(self.sol.convert(\"PAYPALISHIRING\", 3), \"PAHNAPLSIIGYIR\")\n",
    "    \n",
    "    def test_single_row(self):\n",
    "        self.assertEqual(self.sol.convert(\"ABC\", 1), \"ABC\")\n",
    "\n",
    "    def test_numRows_more_than_length(self):\n",
    "        self.assertEqual(self.sol.convert(\"AB\", 5), \"AB\")\n",
    "\n",
    "    def test_empty_string(self):\n",
    "        self.assertEqual(self.sol.convert(\"\", 3), \"\")\n",
    "\n",
    "    def test_two_rows(self):\n",
    "        self.assertEqual(self.sol.convert(\"PAYPALISHIRING\", 2), \"PYAIHRNAPLSIIG\")\n",
    "\n",
    "\n",
    "unittest.main(argv=[''], verbosity=2, exit=False)\n"
   ]
  }
 ],
 "metadata": {
  "kernelspec": {
   "display_name": "Python (notebook)",
   "language": "python",
   "name": "notebook"
  },
  "language_info": {
   "codemirror_mode": {
    "name": "ipython",
    "version": 3
   },
   "file_extension": ".py",
   "mimetype": "text/x-python",
   "name": "python",
   "nbconvert_exporter": "python",
   "pygments_lexer": "ipython3",
   "version": "3.12.8"
  }
 },
 "nbformat": 4,
 "nbformat_minor": 2
}
