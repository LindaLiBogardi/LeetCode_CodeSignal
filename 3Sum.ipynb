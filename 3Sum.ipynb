{
 "cells": [
  {
   "cell_type": "markdown",
   "metadata": {},
   "source": [
    "15. 3Sum\n",
    "\n",
    "Given an integer array nums, return all the triplets [nums[i], nums[j], nums[k]] such that i != j, i != k, and j != k, and nums[i] + nums[j] + nums[k] == 0.\n",
    "\n",
    "Notice that the solution set must not contain duplicate triplets."
   ]
  },
  {
   "cell_type": "code",
   "execution_count": 1,
   "metadata": {},
   "outputs": [],
   "source": [
    "# two pointer version\n",
    "\n",
    "class Solution(object):\n",
    "    def threeSum(self, nums):\n",
    "        nums.sort()\n",
    "        result = []\n",
    "\n",
    "        for i in range(len(nums) - 2):\n",
    "            if i > 0 and nums[i] == nums[i - 1]:\n",
    "                continue  # skip duplicates\n",
    "\n",
    "            left = i + 1\n",
    "            right = len(nums) - 1\n",
    "\n",
    "            while left < right:\n",
    "                total = nums[i] + nums[left] + nums[right]\n",
    "\n",
    "                if total == 0:\n",
    "                    result.append([nums[i], nums[left], nums[right]])\n",
    "\n",
    "                    # Skip duplicates for left\n",
    "                    while left < right and nums[left] == nums[left + 1]:\n",
    "                        left += 1\n",
    "                    # Skip duplicates for right\n",
    "                    while left < right and nums[right] == nums[right - 1]:\n",
    "                        right -= 1\n",
    "\n",
    "                    left += 1\n",
    "                    right -= 1\n",
    "\n",
    "                elif total < 0:\n",
    "                    left += 1  # move right to increase sum\n",
    "                else:\n",
    "                    right -= 1  # move left to decrease sum\n",
    "\n",
    "        return result\n",
    "\n"
   ]
  },
  {
   "cell_type": "code",
   "execution_count": 2,
   "metadata": {},
   "outputs": [],
   "source": [
    "#nested loop solution. Time complexity: O(n³)\n",
    "class Solution(object):\n",
    "    def threeSum(self, nums):\n",
    "        result = []\n",
    "        n = len(nums)\n",
    "        \n",
    "        for i in range(n):\n",
    "            for j in range(i + 1, n):\n",
    "                for k in range(j + 1, n):\n",
    "                    if nums[i] + nums[j] + nums[k] == 0:\n",
    "                        triplet = sorted([nums[i], nums[j], nums[k]])\n",
    "                        if triplet not in result:\n",
    "                            result.append(triplet)\n",
    "        \n",
    "        return result\n"
   ]
  },
  {
   "cell_type": "code",
   "execution_count": 5,
   "metadata": {},
   "outputs": [
    {
     "name": "stdout",
     "output_type": "stream",
     "text": [
      "✅ Test passed!\n"
     ]
    }
   ],
   "source": [
    "sol = Solution()\n",
    "\n",
    "# Test input\n",
    "input_list = [-1, 0, 1, 2, -1, -4]\n",
    "expected_output = [[-1, -1, 2], [-1, 0, 1]]\n",
    "\n",
    "# Run the function\n",
    "output = sol.threeSum(input_list)\n",
    "\n",
    "# Sort for comparison (order of triplets doesn't matter)\n",
    "if sorted(output) == sorted(expected_output):\n",
    "    print(\"✅ Test passed!\")\n",
    "else:\n",
    "    print(\"❌ Test failed.\")\n",
    "    print(\"Expected:\", expected_output)\n",
    "    print(\"Got:\", output)\n"
   ]
  }
 ],
 "metadata": {
  "kernelspec": {
   "display_name": "Python (notebook)",
   "language": "python",
   "name": "notebook"
  },
  "language_info": {
   "codemirror_mode": {
    "name": "ipython",
    "version": 3
   },
   "file_extension": ".py",
   "mimetype": "text/x-python",
   "name": "python",
   "nbconvert_exporter": "python",
   "pygments_lexer": "ipython3",
   "version": "3.12.8"
  }
 },
 "nbformat": 4,
 "nbformat_minor": 2
}
