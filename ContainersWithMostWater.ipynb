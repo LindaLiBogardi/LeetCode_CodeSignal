{
 "cells": [
  {
   "cell_type": "markdown",
   "metadata": {},
   "source": [
    "11. Container With Most Water\n",
    "\n",
    "You are given an integer array height of length n. There are n vertical lines drawn such that the two endpoints of the ith line are (i, 0) and (i, height[i]).\n",
    "\n",
    "Find two lines that together with the x-axis form a container, such that the container contains the most water.\n",
    "\n",
    "Return the maximum amount of water a container can store.\n",
    "\n",
    "Notice that you may not slant the container."
   ]
  },
  {
   "cell_type": "code",
   "execution_count": 1,
   "metadata": {},
   "outputs": [],
   "source": [
    "# Two Pointer Approach\n",
    "\n",
    "class Solution(object):\n",
    "    def maxArea(self, height):\n",
    "        max_area = 0\n",
    "        left, right = 0, len(height) - 1\n",
    "\n",
    "        while left < right:\n",
    "            h = min(height[left], height[right])\n",
    "            w = right - left\n",
    "            max_area = max(max_area, h * w)\n",
    "\n",
    "            # Move the shorter line inward\n",
    "            if height[left] < height[right]:\n",
    "                left += 1\n",
    "            else:\n",
    "                right -= 1\n",
    "\n",
    "        return max_area\n",
    "\n"
   ]
  },
  {
   "cell_type": "code",
   "execution_count": null,
   "metadata": {},
   "outputs": [],
   "source": [
    "# nested loop \n",
    "\n",
    "class Solution(object):\n",
    "    def maxArea(self, height):\n",
    "        max_area = 0\n",
    "        n = len(height)\n",
    "        for i in range(n):\n",
    "            for j in range(i + 1, n):\n",
    "                area = min(height[i], height[j]) * (j - i)\n",
    "                max_area = max(max_area, area)\n",
    "        return max_area\n"
   ]
  },
  {
   "cell_type": "code",
   "execution_count": 2,
   "metadata": {},
   "outputs": [
    {
     "name": "stderr",
     "output_type": "stream",
     "text": [
      "test_decreasing (__main__.TestMaxArea.test_decreasing) ... ok\n",
      "test_empty (__main__.TestMaxArea.test_empty) ... ok\n",
      "test_example1 (__main__.TestMaxArea.test_example1) ... ok\n",
      "test_increasing (__main__.TestMaxArea.test_increasing) ... ok\n",
      "test_single_element (__main__.TestMaxArea.test_single_element) ... ok\n",
      "test_small (__main__.TestMaxArea.test_small) ... ok\n",
      "\n",
      "----------------------------------------------------------------------\n",
      "Ran 6 tests in 0.007s\n",
      "\n",
      "OK\n"
     ]
    },
    {
     "data": {
      "text/plain": [
       "<unittest.main.TestProgram at 0x1060fcb90>"
      ]
     },
     "execution_count": 2,
     "metadata": {},
     "output_type": "execute_result"
    }
   ],
   "source": [
    "import unittest\n",
    "\n",
    "class TestMaxArea(unittest.TestCase):\n",
    "    def setUp(self):\n",
    "        self.solution = Solution()\n",
    "\n",
    "    def test_example1(self):\n",
    "        self.assertEqual(self.solution.maxArea([1,8,6,2,5,4,8,3,7]), 49)\n",
    "\n",
    "    def test_small(self):\n",
    "        self.assertEqual(self.solution.maxArea([1,1]), 1)\n",
    "\n",
    "    def test_increasing(self):\n",
    "        self.assertEqual(self.solution.maxArea([1,2,3,4,5]), 6)\n",
    "\n",
    "    def test_decreasing(self):\n",
    "        self.assertEqual(self.solution.maxArea([5,4,3,2,1]), 6)\n",
    "\n",
    "    def test_single_element(self):\n",
    "        self.assertEqual(self.solution.maxArea([10]), 0)\n",
    "\n",
    "    def test_empty(self):\n",
    "        self.assertEqual(self.solution.maxArea([]), 0)\n",
    "\n",
    "# Run the tests in Jupyter\n",
    "unittest.main(argv=[''], verbosity=2, exit=False)\n"
   ]
  }
 ],
 "metadata": {
  "kernelspec": {
   "display_name": "Python (notebook)",
   "language": "python",
   "name": "notebook"
  },
  "language_info": {
   "codemirror_mode": {
    "name": "ipython",
    "version": 3
   },
   "file_extension": ".py",
   "mimetype": "text/x-python",
   "name": "python",
   "nbconvert_exporter": "python",
   "pygments_lexer": "ipython3",
   "version": "3.12.8"
  }
 },
 "nbformat": 4,
 "nbformat_minor": 2
}
