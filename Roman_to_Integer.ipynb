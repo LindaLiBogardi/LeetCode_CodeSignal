{
 "cells": [
  {
   "cell_type": "markdown",
   "metadata": {},
   "source": [
    "13. Roman to Integer\n",
    "\n",
    "Roman numerals are represented by seven different symbols: I, V, X, L, C, D and M.\n",
    "\n",
    "Symbol       Value\n",
    "I             1\n",
    "V             5\n",
    "X             10\n",
    "L             50\n",
    "C             100\n",
    "D             500\n",
    "M             1000\n",
    "For example, 2 is written as II in Roman numeral, just two ones added together. 12 is written as XII, which is simply X + II. The number 27 is written as XXVII, which is XX + V + II.\n",
    "\n",
    "Roman numerals are usually written largest to smallest from left to right. However, the numeral for four is not IIII. Instead, the number four is written as IV. Because the one is before the five we subtract it making four. The same principle applies to the number nine, which is written as IX. There are six instances where subtraction is used:\n",
    "\n",
    "I can be placed before V (5) and X (10) to make 4 and 9. \n",
    "X can be placed before L (50) and C (100) to make 40 and 90. \n",
    "C can be placed before D (500) and M (1000) to make 400 and 900.\n",
    "Given a roman numeral, convert it to an integer."
   ]
  },
  {
   "cell_type": "code",
   "execution_count": 3,
   "metadata": {},
   "outputs": [],
   "source": [
    "# hash map solution \n",
    "\n",
    "class Solution(object):\n",
    "    def romanToInt(self, s):\n",
    "        roman_to_int = {\n",
    "                        'I': 1,\n",
    "                        'V': 5,\n",
    "                        'X': 10,\n",
    "                        'L': 50,\n",
    "                        'C': 100,\n",
    "                        'D': 500,\n",
    "                        'M': 1000\n",
    "                    }\n",
    "        total = 0\n",
    "        prev_value = 0\n",
    "\n",
    "        for char in reversed(s):  \n",
    "            value = roman_to_int[char]\n",
    "            if value < prev_value:\n",
    "                total -= value\n",
    "            else:\n",
    "                total += value\n",
    "            prev_value = value\n",
    "\n",
    "        return total"
   ]
  },
  {
   "cell_type": "code",
   "execution_count": 6,
   "metadata": {},
   "outputs": [
    {
     "name": "stdout",
     "output_type": "stream",
     "text": [
      "3\n",
      "4\n",
      "9\n",
      "58\n",
      "94\n",
      "994\n",
      "1994\n"
     ]
    }
   ],
   "source": [
    "sol = Solution()\n",
    "print(sol.romanToInt(\"III\"))     # Output: 3\n",
    "print(sol.romanToInt(\"IV\"))      # Output: 4\n",
    "print(sol.romanToInt(\"IX\"))      # Output: 9\n",
    "print(sol.romanToInt(\"LVIII\"))   # Output: 58\n",
    "print(sol.romanToInt(\"XCIV\"))    # Output: 94\n",
    "print(sol.romanToInt(\"CMXCIV\"))    # Output: 994\n",
    "print(sol.romanToInt(\"MCMXCIV\")) # Output: 1994\n"
   ]
  }
 ],
 "metadata": {
  "kernelspec": {
   "display_name": "Python (notebook)",
   "language": "python",
   "name": "notebook"
  },
  "language_info": {
   "codemirror_mode": {
    "name": "ipython",
    "version": 3
   },
   "file_extension": ".py",
   "mimetype": "text/x-python",
   "name": "python",
   "nbconvert_exporter": "python",
   "pygments_lexer": "ipython3",
   "version": "3.12.8"
  }
 },
 "nbformat": 4,
 "nbformat_minor": 2
}
