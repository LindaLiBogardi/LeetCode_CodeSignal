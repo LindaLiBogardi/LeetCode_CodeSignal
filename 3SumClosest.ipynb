{
 "cells": [
  {
   "cell_type": "markdown",
   "metadata": {},
   "source": [
    "16. 3Sum Closest\n",
    "\n",
    "Given an integer array nums of length n and an integer target, find three integers in nums such that the sum is closest to target.\n",
    "\n",
    "Return the sum of the three integers.\n",
    "\n",
    "You may assume that each input would have exactly one solution."
   ]
  },
  {
   "cell_type": "code",
   "execution_count": 5,
   "metadata": {},
   "outputs": [],
   "source": [
    "class Solution(object):\n",
    "    def threeSumClosest(self, nums, target):\n",
    "        nums.sort()\n",
    "        closest_sum = float('inf')\n",
    "        result_triplet = ()\n",
    "\n",
    "        for i in range(len(nums) - 2):\n",
    "            left = i + 1\n",
    "            right = len(nums) - 1\n",
    "\n",
    "            while left < right:\n",
    "                current_sum = nums[i] + nums[left] + nums[right]\n",
    "\n",
    "                # Check if this sum is closer to the target\n",
    "                if abs(current_sum - target) < abs(closest_sum - target):\n",
    "                    closest_sum = current_sum\n",
    "                    result_triplet = (nums[i], nums[left], nums[right])\n",
    "\n",
    "                # Move pointers based on comparison with target\n",
    "                if current_sum < target:\n",
    "                    left += 1\n",
    "                elif current_sum > target:\n",
    "                    right -= 1\n",
    "                else:\n",
    "                    # Exact match\n",
    "                    return (target, (nums[i], nums[left], nums[right]))\n",
    "\n",
    "        return (closest_sum, result_triplet)\n",
    "\n"
   ]
  },
  {
   "cell_type": "code",
   "execution_count": 6,
   "metadata": {},
   "outputs": [
    {
     "name": "stdout",
     "output_type": "stream",
     "text": [
      "(0, (-4, -1, 5))\n"
     ]
    }
   ],
   "source": [
    "sol = Solution()\n",
    "nums = [-4, -1, 1, 2, 5]\n",
    "target = 0\n",
    "print(sol.threeSumClosest(nums, target))\n",
    "\n"
   ]
  }
 ],
 "metadata": {
  "kernelspec": {
   "display_name": "Python (notebook)",
   "language": "python",
   "name": "notebook"
  },
  "language_info": {
   "codemirror_mode": {
    "name": "ipython",
    "version": 3
   },
   "file_extension": ".py",
   "mimetype": "text/x-python",
   "name": "python",
   "nbconvert_exporter": "python",
   "pygments_lexer": "ipython3",
   "version": "3.12.8"
  }
 },
 "nbformat": 4,
 "nbformat_minor": 2
}
