{
 "cells": [
  {
   "cell_type": "markdown",
   "metadata": {},
   "source": [
    "# 9. Palindrome Number\n",
    "Given an integer x, return true if x is a palindrome, and false otherwise."
   ]
  },
  {
   "cell_type": "code",
   "execution_count": 2,
   "metadata": {},
   "outputs": [],
   "source": [
    "# math-only approach \n",
    "# O(1) space and O(log₁₀(n)) time complexity\n",
    "\n",
    "class Solution(object):\n",
    "    def isPalindrome(self, x):  \n",
    "        if x < 0 or (x != 0 and x % 10 == 0):  # Edge cases. Negative numbers or numbers ends up with 0 but itself is not zero, ain't be palindrome\n",
    "            return False\n",
    "        \n",
    "        # check the reversed second half digits are the same as the first half digits\n",
    "        reversed_half = 0\n",
    "\n",
    "        # Step 3: Reverse digits until reversed_half >= remaining x\n",
    "        while x > reversed_half:\n",
    "            reversed_half = reversed_half * 10 + x % 10  # Add last digit of x to reversed_half\n",
    "            x //= 10\n",
    "\n",
    "        # x == reversed_half (even-length palindrome)\n",
    "        # x == reversed_half // 10 (odd-length palindrome)\n",
    "        return x == reversed_half or x == reversed_half // 10\n"
   ]
  },
  {
   "cell_type": "code",
   "execution_count": 5,
   "metadata": {},
   "outputs": [],
   "source": [
    "# loop halv length of str(x). \n",
    "# O(n) for both time and space complexity\n",
    "\n",
    "class Solution(object):\n",
    "    def isPalindrome(self, x):\n",
    "        x = str(x)\n",
    "        for i in range(len(x) // 2):\n",
    "            if x[i] != x[-i - 1]:\n",
    "                return False\n",
    "        return True\n"
   ]
  },
  {
   "cell_type": "code",
   "execution_count": null,
   "metadata": {},
   "outputs": [],
   "source": [
    "# extra space for x[::-1]\n",
    "\n",
    "class Solution(object):\n",
    "    def isPalindrome(self, x):\n",
    "        x = str(x)\n",
    "        return x == x[::-1]\n",
    " "
   ]
  },
  {
   "cell_type": "code",
   "execution_count": null,
   "metadata": {},
   "outputs": [],
   "source": [
    "# two pointer, just another way to check x[i] != x[-i-1], still loop \n",
    "# still O(n) for time and space complexity \n",
    "\n",
    "class Solution(object):\n",
    "    def isPalindrome(self, x):\n",
    "        x = str(x)\n",
    "        left, right = 0, len(x) - 1\n",
    "        while left < right:\n",
    "            if x[left] != x[right]:\n",
    "                return False\n",
    "            left += 1\n",
    "            right -= 1\n",
    "        return True"
   ]
  },
  {
   "cell_type": "code",
   "execution_count": 3,
   "metadata": {},
   "outputs": [
    {
     "name": "stdout",
     "output_type": "stream",
     "text": [
      "All tests passed!\n"
     ]
    }
   ],
   "source": [
    "sol = Solution()\n",
    "\n",
    "# Positive palindromes\n",
    "assert sol.isPalindrome(121) == True\n",
    "assert sol.isPalindrome(12321) == True\n",
    "assert sol.isPalindrome(1) == True\n",
    "assert sol.isPalindrome(0) == True\n",
    "assert sol.isPalindrome(1221) == True\n",
    "\n",
    "# Negative palindromes\n",
    "assert sol.isPalindrome(-121) == False\n",
    "assert sol.isPalindrome(-1) == False\n",
    "\n",
    "# Non-palindromes\n",
    "assert sol.isPalindrome(123) == False\n",
    "assert sol.isPalindrome(10) == False\n",
    "assert sol.isPalindrome(100) == False\n",
    "\n",
    "print(\"All tests passed!\")"
   ]
  }
 ],
 "metadata": {
  "kernelspec": {
   "display_name": "Python (notebook)",
   "language": "python",
   "name": "notebook"
  },
  "language_info": {
   "codemirror_mode": {
    "name": "ipython",
    "version": 3
   },
   "file_extension": ".py",
   "mimetype": "text/x-python",
   "name": "python",
   "nbconvert_exporter": "python",
   "pygments_lexer": "ipython3",
   "version": "3.12.8"
  }
 },
 "nbformat": 4,
 "nbformat_minor": 2
}
