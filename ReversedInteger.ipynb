{
 "cells": [
  {
   "cell_type": "markdown",
   "metadata": {},
   "source": [
    "7. Reverse Integer\n",
    "\n",
    "Given a signed 32-bit integer x, return x with its digits reversed. If reversing x causes the value to go outside the signed 32-bit integer range [-2^31, 2^31 - 1], then return 0.\n",
    "\n",
    "Assume the environment does not allow you to store 64-bit integers (signed or unsigned)."
   ]
  },
  {
   "cell_type": "code",
   "execution_count": 1,
   "metadata": {},
   "outputs": [],
   "source": [
    "# math-only solution \n",
    "\n",
    "\n",
    "class Solution(object):\n",
    "    def reverse(self, x):\n",
    "        INT_MIN, INT_MAX = -2**31, 2**31 - 1\n",
    "\n",
    "        result = 0\n",
    "        sign = -1 if x < 0 else 1\n",
    "        x = abs(x)\n",
    "\n",
    "        while x != 0:\n",
    "            digit = x % 10\n",
    "            x = x // 10\n",
    "\n",
    "            # Check for overflow before updating result\n",
    "            if result > (INT_MAX - digit) // 10:\n",
    "                return 0\n",
    "\n",
    "            result = result * 10 + digit\n",
    "\n",
    "        return sign * result\n",
    "\n"
   ]
  },
  {
   "cell_type": "code",
   "execution_count": 1,
   "metadata": {},
   "outputs": [],
   "source": [
    "# brute force solution \n",
    "\n",
    "class Solution(object):\n",
    "    def reverse(self, x):\n",
    "        INT_MIN, INT_MAX = -2**31, 2**31 - 1\n",
    "        \n",
    "        sign = -1 if x < 0 else 1\n",
    "        x_abs_str = str(abs(x))\n",
    "        reversed_str = x_abs_str[::-1]\n",
    "        reversed_int = sign * int(reversed_str)\n",
    "        \n",
    "        if reversed_int < INT_MIN or reversed_int > INT_MAX:\n",
    "            return 0\n",
    "        return reversed_int\n"
   ]
  },
  {
   "cell_type": "code",
   "execution_count": 2,
   "metadata": {},
   "outputs": [
    {
     "name": "stderr",
     "output_type": "stream",
     "text": [
      "test_negative_number (__main__.TestReverseInteger.test_negative_number) ... ok\n",
      "test_negative_overflow (__main__.TestReverseInteger.test_negative_overflow) ... ok\n",
      "test_overflow (__main__.TestReverseInteger.test_overflow) ... ok\n",
      "test_positive_number (__main__.TestReverseInteger.test_positive_number) ... ok\n",
      "test_trailing_zeros (__main__.TestReverseInteger.test_trailing_zeros) ... ok\n",
      "test_zero (__main__.TestReverseInteger.test_zero) ... ok\n",
      "\n",
      "----------------------------------------------------------------------\n",
      "Ran 6 tests in 0.003s\n",
      "\n",
      "OK\n"
     ]
    },
    {
     "data": {
      "text/plain": [
       "<unittest.main.TestProgram at 0x1064a19d0>"
      ]
     },
     "execution_count": 2,
     "metadata": {},
     "output_type": "execute_result"
    }
   ],
   "source": [
    "import unittest\n",
    "\n",
    "# Your Solution class\n",
    "class Solution(object):\n",
    "    def reverse(self, x):\n",
    "        INT_MIN, INT_MAX = -2**31, 2**31 - 1\n",
    "\n",
    "        result = 0\n",
    "        sign = -1 if x < 0 else 1\n",
    "        x = abs(x)\n",
    "\n",
    "        while x != 0:\n",
    "            digit = x % 10\n",
    "            x = x // 10\n",
    "\n",
    "            if result > (INT_MAX - digit) // 10:\n",
    "                return 0\n",
    "\n",
    "            result = result * 10 + digit\n",
    "\n",
    "        return sign * result\n",
    "\n",
    "# Unit test class\n",
    "class TestReverseInteger(unittest.TestCase):\n",
    "    def setUp(self):\n",
    "        self.sol = Solution()\n",
    "\n",
    "    def test_positive_number(self):\n",
    "        self.assertEqual(self.sol.reverse(123), 321)\n",
    "\n",
    "    def test_negative_number(self):\n",
    "        self.assertEqual(self.sol.reverse(-456), -654)\n",
    "\n",
    "    def test_trailing_zeros(self):\n",
    "        self.assertEqual(self.sol.reverse(120), 21)\n",
    "\n",
    "    def test_zero(self):\n",
    "        self.assertEqual(self.sol.reverse(0), 0)\n",
    "\n",
    "    def test_overflow(self):\n",
    "        self.assertEqual(self.sol.reverse(1534236469), 0)  # Overflows 32-bit int\n",
    "\n",
    "    def test_negative_overflow(self):\n",
    "        self.assertEqual(self.sol.reverse(-1563847412), 0)  # Negative overflow\n",
    "\n",
    "# Run in Jupyter\n",
    "unittest.main(argv=[''], verbosity=2, exit=False)\n"
   ]
  }
 ],
 "metadata": {
  "kernelspec": {
   "display_name": "Python (notebook)",
   "language": "python",
   "name": "notebook"
  },
  "language_info": {
   "codemirror_mode": {
    "name": "ipython",
    "version": 3
   },
   "file_extension": ".py",
   "mimetype": "text/x-python",
   "name": "python",
   "nbconvert_exporter": "python",
   "pygments_lexer": "ipython3",
   "version": "3.12.8"
  }
 },
 "nbformat": 4,
 "nbformat_minor": 2
}
