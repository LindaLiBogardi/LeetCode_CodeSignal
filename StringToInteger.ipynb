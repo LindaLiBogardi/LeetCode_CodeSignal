{
 "cells": [
  {
   "cell_type": "markdown",
   "metadata": {},
   "source": [
    "8. String to Integer (atoi)\n",
    "\n",
    "Implement the myAtoi(string s) function, which converts a string to a 32-bit signed integer.\n",
    "\n",
    "The algorithm for myAtoi(string s) is as follows:\n",
    "\n",
    "Whitespace: Ignore any leading whitespace (\" \").\n",
    "Signedness: Determine the sign by checking if the next character is '-' or '+', assuming positivity if neither present.\n",
    "Conversion: Read the integer by skipping leading zeros until a non-digit character is encountered or the end of the string is reached. If no digits were read, then the result is 0.\n",
    "Rounding: If the integer is out of the 32-bit signed integer range [-231, 231 - 1], then round the integer to remain in the range. Specifically, integers less than -2^31 should be rounded to -2^31, and integers greater than 2^31 - 1 should be rounded to 2^31 - 1.\n",
    "Return the integer as the final result."
   ]
  },
  {
   "cell_type": "code",
   "execution_count": null,
   "metadata": {},
   "outputs": [],
   "source": [
    "class Solution(object):\n",
    "    def myAtoi(self, s):\n",
    "\n",
    "        s = s.lstrip() # clean up leading whitespace \n",
    "        if not s: \n",
    "            return 0\n",
    "        \n",
    "        i = 0\n",
    "        sign = 1\n",
    "        if s[0] == \"-\":\n",
    "            sign = - 1\n",
    "            i += 1\n",
    "        elif s[0] == \"+\":\n",
    "            i += 1 \n",
    "\n",
    "        result = 0\n",
    "        while i < len(s) and s[i].isdigit():\n",
    "            result = result * 10 + int(s[i])\n",
    "            i += 1\n",
    "        result *= sign\n",
    "\n",
    "        INT_min, INT_max = -2**31, 2**31 - 1  \n",
    "        if result < INT_min:\n",
    "            return INT_min\n",
    "        if result > INT_max:\n",
    "            return INT_max\n",
    "\n",
    "        return result"
   ]
  },
  {
   "cell_type": "code",
   "execution_count": 1,
   "metadata": {},
   "outputs": [],
   "source": [
    "class Solution(object):\n",
    "    def myAtoi(self, s):\n",
    "        s = s.lstrip()\n",
    "        if not s:\n",
    "            return 0\n",
    "\n",
    "        sign = 1\n",
    "        i = 0\n",
    "\n",
    "        if s[0] == '-':\n",
    "            sign = -1\n",
    "            i += 1\n",
    "        elif s[0] == '+':\n",
    "            i += 1\n",
    "\n",
    "        result = 0\n",
    "        while i < len(s) and s[i].isdigit():\n",
    "            result = result * 10 + int(s[i])\n",
    "            i += 1\n",
    "\n",
    "        result *= sign\n",
    "\n",
    "        INT_MIN = -2**31\n",
    "        INT_MAX = 2**31 - 1\n",
    "        if result < INT_MIN:\n",
    "            return INT_MIN\n",
    "        if result > INT_MAX:\n",
    "            return INT_MAX\n",
    "        return result\n"
   ]
  }
 ],
 "metadata": {
  "kernelspec": {
   "display_name": "Python (notebook)",
   "language": "python",
   "name": "notebook"
  },
  "language_info": {
   "codemirror_mode": {
    "name": "ipython",
    "version": 3
   },
   "file_extension": ".py",
   "mimetype": "text/x-python",
   "name": "python",
   "nbconvert_exporter": "python",
   "pygments_lexer": "ipython3",
   "version": "3.12.8"
  }
 },
 "nbformat": 4,
 "nbformat_minor": 2
}
