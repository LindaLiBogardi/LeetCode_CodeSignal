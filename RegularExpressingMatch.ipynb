{
 "cells": [
  {
   "cell_type": "markdown",
   "metadata": {},
   "source": [
    "10. Regular Expression Matching\n",
    "\n",
    "Given an input string s and a pattern p, implement regular expression matching with support for '.' and '*' where:\n",
    "\n",
    "'.' Matches any single character.​​​​\n",
    "'*' Matches zero or more of the preceding element.\n",
    "The matching should cover the entire input string (not partial).\n"
   ]
  },
  {
   "cell_type": "code",
   "execution_count": null,
   "metadata": {},
   "outputs": [],
   "source": [
    "class Solution(object):\n",
    "    def isMatch(self, s, p):\n",
    "        if not p:\n",
    "            return not s\n",
    "\n",
    "        first_match = bool(s) and (p[0] == s[0] or p[0] == '.')\n",
    "\n",
    "        if len(p) >= 2 and p[1] == '*':\n",
    "            \n",
    "           \n",
    "            return (self.isMatch(s, p[2:]) or\n",
    "                    (first_match and self.isMatch(s[1:], p)))\n",
    "        # 1. Use 0 of the preceding element (skip p[0] and '*')\n",
    "        else:\n",
    "            return first_match and self.isMatch(s[1:], p[1:])\n",
    "         # 2. If first_match, try using 1 char from s and recheck with same pattern\n"
   ]
  }
 ],
 "metadata": {
  "kernelspec": {
   "display_name": "Python (notebook)",
   "language": "python",
   "name": "notebook"
  },
  "language_info": {
   "name": "python",
   "version": "3.12.8"
  }
 },
 "nbformat": 4,
 "nbformat_minor": 2
}
