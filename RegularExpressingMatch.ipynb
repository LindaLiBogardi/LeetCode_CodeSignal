{
 "cells": [
  {
   "cell_type": "markdown",
   "metadata": {},
   "source": [
    "10. Regular Expression Matching\n",
    "\n",
    "Given an input string s and a pattern p, implement regular expression matching with support for '.' and '*' where:\n",
    "\n",
    "'.' Matches any single character.​​​​\n",
    "'*' Matches zero or more of the preceding element.\n",
    "The matching should cover the entire input string (not partial).\n"
   ]
  },
  {
   "cell_type": "code",
   "execution_count": 1,
   "metadata": {},
   "outputs": [],
   "source": [
    "#recursive, DP \n",
    "\n",
    "class Solution(object):\n",
    "    def isMatch(self, s, p):\n",
    "        if not p:\n",
    "            return not s\n",
    "\n",
    "        first_match = bool(s) and (p[0] == s[0] or p[0] == '.')\n",
    "\n",
    "        if len(p) >= 2 and p[1] == '*':\n",
    "            \n",
    "           \n",
    "            return (self.isMatch(s, p[2:]) or\n",
    "                    (first_match and self.isMatch(s[1:], p)))\n",
    "        # 1. Use 0 of the preceding element (skip p[0] and '*')\n",
    "        else:\n",
    "            return first_match and self.isMatch(s[1:], p[1:])\n",
    "         # 2. If first_match, try using 1 char from s and recheck with same pattern\n"
   ]
  },
  {
   "cell_type": "code",
   "execution_count": 2,
   "metadata": {},
   "outputs": [
    {
     "name": "stderr",
     "output_type": "stream",
     "text": [
      "test_dot_operator (__main__.TestRegexMatching.test_dot_operator) ... ok\n",
      "test_empty_string (__main__.TestRegexMatching.test_empty_string) ... ok\n",
      "test_exact_match (__main__.TestRegexMatching.test_exact_match) ... ok\n",
      "test_no_match (__main__.TestRegexMatching.test_no_match) ... ok\n",
      "test_star_operator (__main__.TestRegexMatching.test_star_operator) ... ok\n",
      "test_star_zero_match (__main__.TestRegexMatching.test_star_zero_match) ... FAIL\n",
      "\n",
      "======================================================================\n",
      "FAIL: test_star_zero_match (__main__.TestRegexMatching.test_star_zero_match)\n",
      "----------------------------------------------------------------------\n",
      "Traceback (most recent call last):\n",
      "  File \"/var/folders/ff/fyfqp8bn0xqf6gqb7p92vw240000gn/T/ipykernel_11420/3174558418.py\", line 18, in test_star_zero_match\n",
      "    self.assertTrue(self.solution.isMatch(\"mississippi\", \"mis*is*p*.\"))  # False case\n",
      "    ^^^^^^^^^^^^^^^^^^^^^^^^^^^^^^^^^^^^^^^^^^^^^^^^^^^^^^^^^^^^^^^^^^^\n",
      "AssertionError: False is not true\n",
      "\n",
      "----------------------------------------------------------------------\n",
      "Ran 6 tests in 0.005s\n",
      "\n",
      "FAILED (failures=1)\n"
     ]
    },
    {
     "data": {
      "text/plain": [
       "<unittest.main.TestProgram at 0x1060d83b0>"
      ]
     },
     "execution_count": 2,
     "metadata": {},
     "output_type": "execute_result"
    }
   ],
   "source": [
    "import unittest\n",
    "\n",
    "class TestRegexMatching(unittest.TestCase):\n",
    "    \n",
    "    def setUp(self):\n",
    "        self.solution = Solution()\n",
    "    \n",
    "    def test_exact_match(self):\n",
    "        self.assertTrue(self.solution.isMatch(\"abc\", \"abc\"))\n",
    "\n",
    "    def test_dot_operator(self):\n",
    "        self.assertTrue(self.solution.isMatch(\"abc\", \"a.c\"))\n",
    "\n",
    "    def test_star_operator(self):\n",
    "        self.assertTrue(self.solution.isMatch(\"aab\", \"c*a*b\"))\n",
    "\n",
    "    def test_star_zero_match(self):\n",
    "        self.assertTrue(self.solution.isMatch(\"mississippi\", \"mis*is*p*.\"))  # False case\n",
    "\n",
    "    def test_empty_string(self):\n",
    "        self.assertTrue(self.solution.isMatch(\"\", \"a*\"))  # True\n",
    "\n",
    "    def test_no_match(self):\n",
    "        self.assertFalse(self.solution.isMatch(\"abc\", \"ab\"))\n",
    "\n",
    "# Run the tests in Jupyter\n",
    "unittest.main(argv=[''], verbosity=2, exit=False)\n"
   ]
  }
 ],
 "metadata": {
  "kernelspec": {
   "display_name": "Python (notebook)",
   "language": "python",
   "name": "notebook"
  },
  "language_info": {
   "codemirror_mode": {
    "name": "ipython",
    "version": 3
   },
   "file_extension": ".py",
   "mimetype": "text/x-python",
   "name": "python",
   "nbconvert_exporter": "python",
   "pygments_lexer": "ipython3",
   "version": "3.12.8"
  }
 },
 "nbformat": 4,
 "nbformat_minor": 2
}
